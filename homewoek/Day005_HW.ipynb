{
 "cells": [
  {
   "cell_type": "markdown",
   "metadata": {},
   "source": [
    "# API 資料串接 - 以 Dcard API 實作範例\n",
    "\n",
    "* 利用 urllib 套件的 urlretrieve 方法下載檔案\n",
    "* 了解 Python File I/O 讀檔、寫檔的用法\n",
    "* 能用運用資源管理器 With Statement 優化寫法"
   ]
  },
  {
   "cell_type": "markdown",
   "metadata": {},
   "source": [
    "## 作業目標\n",
    "\n",
    "* 請利用 API: https://www.dcard.tw/_api/forums/pet/posts?popular=true 回答下列問題：\n",
    "\n",
    "1. 這個 API 一次會回傳幾筆資料？每一筆資料包含哪些欄位？\n",
    "2. 取出每一筆資料的「標題」、「貼文時間」、「留言人數」、「按讚人數」\n",
    "3. 計算熱門/非熱門文章的「平均留言人數」與「平均按讚人數」"
   ]
  },
  {
   "cell_type": "code",
   "execution_count": 28,
   "metadata": {},
   "outputs": [],
   "source": [
    "import requests\n",
    "import json\n",
    "\n",
    "url = \"https://www.dcard.tw/_api/forums/pet/posts?popular=true\"\n",
    "r = requests.get(url)\n",
    "response = r.text\n",
    "response = json.loads(response)"
   ]
  },
  {
   "cell_type": "code",
   "execution_count": 9,
   "metadata": {},
   "outputs": [
    {
     "name": "stdout",
     "output_type": "stream",
     "text": [
      "There are 30 number of data.\n",
      "Columns:\n",
      "['id', 'title', 'excerpt', 'anonymousSchool', 'anonymousDepartment', 'pinned', 'forumId', 'replyId', 'createdAt', 'updatedAt', 'commentCount', 'likeCount', 'withNickname', 'tags', 'topics', 'meta', 'forumName', 'forumAlias', 'gender', 'school', 'department', 'replyTitle', 'mediaMeta', 'reactions', 'hidden', 'customStyle', 'isSuspiciousAccount', 'layout', 'withImages', 'withVideos', 'media', 'reportReasonText', 'postAvatar']\n"
     ]
    }
   ],
   "source": [
    "# 1. 這個 API 一次會回傳幾筆資料？每一筆資料包含哪些欄位？\n",
    "\n",
    "print(\"There are {} number of data.\".format(len(response)))\n",
    "print(\"Columns:\")\n",
    "print(list(response[0].keys()))"
   ]
  },
  {
   "cell_type": "code",
   "execution_count": 15,
   "metadata": {},
   "outputs": [
    {
     "name": "stdout",
     "output_type": "stream",
     "text": [
      "----------------------------------------------------------------------------------------------------\n",
      "idx=0, title=#更。不要被薩摩耶給騙了！, createdAt=2019-11-29T00:25:38.826Z, commentCount=170, likeCount=10609\n",
      "----------------------------------------------------------------------------------------------------\n",
      "idx=1, title=#貓 #圖 我懷疑我家貓咪根本不覺得自己是貓咪, createdAt=2019-11-29T15:01:23.745Z, commentCount=19, likeCount=760\n",
      "----------------------------------------------------------------------------------------------------\n",
      "idx=2, title=🐰誰說兔子不能碰水！兔子❤️海灘, createdAt=2019-11-29T07:34:46.328Z, commentCount=42, likeCount=729\n",
      "----------------------------------------------------------------------------------------------------\n",
      "idx=3, title=找回失蹤狗狗😭 原來妳也在找我們, createdAt=2019-11-29T22:33:34.440Z, commentCount=23, likeCount=707\n",
      "----------------------------------------------------------------------------------------------------\n",
      "idx=4, title=高以翔的療癒系狗狗theo, createdAt=2019-11-29T13:52:33.150Z, commentCount=3, likeCount=558\n",
      "----------------------------------------------------------------------------------------------------\n",
      "idx=5, title=吸貓治百病, createdAt=2019-11-29T06:53:05.300Z, commentCount=9, likeCount=254\n",
      "----------------------------------------------------------------------------------------------------\n",
      "idx=6, title=就是你！！！我的菜！！！, createdAt=2019-11-29T03:10:51.060Z, commentCount=0, likeCount=78\n",
      "----------------------------------------------------------------------------------------------------\n",
      "idx=7, title=有愛的假兄弟, createdAt=2019-11-29T04:09:24.480Z, commentCount=0, likeCount=50\n",
      "----------------------------------------------------------------------------------------------------\n",
      "idx=8, title=我家柴犬一系列照片, createdAt=2019-11-29T05:02:04.820Z, commentCount=4, likeCount=42\n",
      "----------------------------------------------------------------------------------------------------\n",
      "idx=9, title=囤貓囤起來😻/圖多文長, createdAt=2019-11-29T03:41:19.070Z, commentCount=4, likeCount=33\n",
      "----------------------------------------------------------------------------------------------------\n",
      "idx=10, title=有人要吸兔嗎？, createdAt=2019-11-30T04:58:10.195Z, commentCount=11, likeCount=29\n",
      "----------------------------------------------------------------------------------------------------\n",
      "idx=11, title=有貓快拜！！, createdAt=2019-11-30T03:07:22.599Z, commentCount=1, likeCount=28\n",
      "----------------------------------------------------------------------------------------------------\n",
      "idx=12, title=被擠床原來是一件幸福的事, createdAt=2019-11-30T04:15:42.699Z, commentCount=3, likeCount=26\n",
      "----------------------------------------------------------------------------------------------------\n",
      "idx=13, title=免費寵物溝通, createdAt=2019-11-29T11:58:23.732Z, commentCount=19, likeCount=23\n",
      "----------------------------------------------------------------------------------------------------\n",
      "idx=14, title=限動裡的小三線們, createdAt=2019-11-29T04:00:40.448Z, commentCount=5, likeCount=20\n",
      "----------------------------------------------------------------------------------------------------\n",
      "idx=15, title=虎斑狗想找寵物溝通師, createdAt=2019-11-29T15:22:07.842Z, commentCount=4, likeCount=18\n",
      "----------------------------------------------------------------------------------------------------\n",
      "idx=16, title=求助！剛接回家的小貓生病了嗎, createdAt=2019-11-29T13:35:26.621Z, commentCount=3, likeCount=17\n",
      "----------------------------------------------------------------------------------------------------\n",
      "idx=17, title=貓男友的拍照技術, createdAt=2019-11-29T13:28:45.211Z, commentCount=2, likeCount=15\n",
      "----------------------------------------------------------------------------------------------------\n",
      "idx=18, title=我家的貓每天睡覺前一定會做的事, createdAt=2019-11-30T06:52:29.882Z, commentCount=3, likeCount=14\n",
      "----------------------------------------------------------------------------------------------------\n",
      "idx=19, title=貓咪走失了😭😭台中，水湳, createdAt=2019-11-29T12:46:13.912Z, commentCount=0, likeCount=14\n",
      "----------------------------------------------------------------------------------------------------\n",
      "idx=20, title=威~柯基你母湯喔, createdAt=2019-11-29T09:44:50.199Z, commentCount=0, likeCount=14\n",
      "----------------------------------------------------------------------------------------------------\n",
      "idx=21, title=限動滿滿的老鼠是怎樣, createdAt=2019-11-29T09:05:18.406Z, commentCount=19, likeCount=14\n",
      "----------------------------------------------------------------------------------------------------\n",
      "idx=22, title=有人想要領養小貓咪嗎, createdAt=2019-11-30T09:00:26.801Z, commentCount=12, likeCount=12\n",
      "----------------------------------------------------------------------------------------------------\n",
      "idx=23, title=#柴 #影片 到底有多討厭洗澡, createdAt=2019-11-30T03:24:55.897Z, commentCount=0, likeCount=11\n",
      "----------------------------------------------------------------------------------------------------\n",
      "idx=24, title=6個月小布偶貓 放臭屁, createdAt=2019-11-29T15:56:00.789Z, commentCount=6, likeCount=11\n",
      "----------------------------------------------------------------------------------------------------\n",
      "idx=25, title=圖 厭世貓化石梗圖, createdAt=2019-11-29T13:38:15.413Z, commentCount=1, likeCount=11\n",
      "----------------------------------------------------------------------------------------------------\n",
      "idx=26, title=自己的主子最可愛, createdAt=2019-11-29T05:09:30.489Z, commentCount=1, likeCount=10\n",
      "----------------------------------------------------------------------------------------------------\n",
      "idx=27, title=白圍巾白手套橘貓❤️, createdAt=2019-11-30T07:44:14.420Z, commentCount=2, likeCount=9\n",
      "----------------------------------------------------------------------------------------------------\n",
      "idx=28, title=鳥, createdAt=2019-11-29T09:55:59.346Z, commentCount=11, likeCount=9\n",
      "----------------------------------------------------------------------------------------------------\n",
      "idx=29, title=從可愛的小寶寶變成破壞王, createdAt=2019-11-29T06:52:19.590Z, commentCount=4, likeCount=9\n",
      "----------------------------------------------------------------------------------------------------\n",
      "END\n"
     ]
    }
   ],
   "source": [
    "# 2. 取出每一筆資料的「標題」、「貼文時間」、「留言人數」、「按讚人數」\n",
    "\n",
    "for idx, item in enumerate(response):\n",
    "    title = item['title']\n",
    "    createdAt = item['createdAt']\n",
    "    commentCount = item['commentCount']\n",
    "    likeCount = item['likeCount']\n",
    "    print('-'*100)\n",
    "    print(\"idx={}, title={}, createdAt={}, commentCount={}, likeCount={}\".format(\n",
    "        idx, title, createdAt, commentCount, likeCount))\n",
    "\n",
    "print('-'*100)\n",
    "print('END')"
   ]
  },
  {
   "cell_type": "code",
   "execution_count": 25,
   "metadata": {},
   "outputs": [],
   "source": [
    "# 3. 計算熱門/非熱門文章的「平均留言人數」與「平均按讚人數」\n",
    "def get_response(popular=True):\n",
    "    if popular:\n",
    "        popular = 'true'\n",
    "    else:\n",
    "        popular = 'false'\n",
    "        \n",
    "    url = \"https://www.dcard.tw/_api/forums/pet/posts?popular={}\".format(popular)\n",
    "    r = requests.get(url)\n",
    "    response = r.text\n",
    "    return json.loads(response)"
   ]
  },
  {
   "cell_type": "code",
   "execution_count": 26,
   "metadata": {},
   "outputs": [
    {
     "name": "stdout",
     "output_type": "stream",
     "text": [
      "Popular article avg_likes=494.5 and avg_coments=12.833333333333334\n"
     ]
    }
   ],
   "source": [
    "raw_data = get_response(True)\n",
    "\n",
    "likeTotal, commentTotal = 0, 0\n",
    "for idx, item in enumerate(raw_data):\n",
    "    likeTotal += item['likeCount']\n",
    "    commentTotal += item['commentCount']\n",
    "    \n",
    "if idx is not None:\n",
    "    print(\"Popular article avg_likes={} and avg_coments={}\".format(likeTotal/(idx+1), commentTotal/(idx+1)))"
   ]
  },
  {
   "cell_type": "code",
   "execution_count": 27,
   "metadata": {},
   "outputs": [
    {
     "name": "stdout",
     "output_type": "stream",
     "text": [
      "Non Popular article avg_likes=36.0 and avg_coments=2.7666666666666666\n"
     ]
    }
   ],
   "source": [
    "raw_data = get_response(False)\n",
    "\n",
    "likeTotal, commentTotal = 0, 0\n",
    "for idx, item in enumerate(raw_data):\n",
    "    likeTotal += item['likeCount']\n",
    "    commentTotal += item['commentCount']\n",
    "    \n",
    "if idx is not None:\n",
    "    print(\"Non Popular article avg_likes={} and avg_coments={}\".format(likeTotal/(idx+1), commentTotal/(idx+1)))"
   ]
  },
  {
   "cell_type": "code",
   "execution_count": null,
   "metadata": {},
   "outputs": [],
   "source": []
  }
 ],
 "metadata": {
  "kernelspec": {
   "display_name": "Python 3",
   "language": "python",
   "name": "python3"
  },
  "language_info": {
   "codemirror_mode": {
    "name": "ipython",
    "version": 3
   },
   "file_extension": ".py",
   "mimetype": "text/x-python",
   "name": "python",
   "nbconvert_exporter": "python",
   "pygments_lexer": "ipython3",
   "version": "3.6.9"
  }
 },
 "nbformat": 4,
 "nbformat_minor": 2
}
